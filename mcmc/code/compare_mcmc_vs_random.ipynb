{
 "cells": [
  {
   "cell_type": "code",
   "execution_count": 1,
   "metadata": {},
   "outputs": [],
   "source": [
    "import matplotlib.pyplot as plt\n",
    "import pickle\n",
    "from pathlib import Path\n",
    "%matplotlib inline"
   ]
  },
  {
   "cell_type": "markdown",
   "metadata": {},
   "source": [
    "# Load selectivity scores"
   ]
  },
  {
   "cell_type": "code",
   "execution_count": 13,
   "metadata": {},
   "outputs": [],
   "source": [
    "model = 'id'\n",
    "target = 'FYN'\n",
    "write_dir = Path(f'/home/zhangi/kentsislab/sh2/03b_design_peptides/samples/random_hsm_{model}_{target.lower()}')\n",
    "with open(write_dir / 'selectivity_scores.pkl', 'rb') as f:\n",
    "        random_hsm_id_fyn_scores = pickle.load(f)"
   ]
  },
  {
   "cell_type": "code",
   "execution_count": 3,
   "metadata": {},
   "outputs": [],
   "source": [
    "model = 'd'\n",
    "target = 'FYN'\n",
    "write_dir = Path(f'/home/zhangi/kentsislab/sh2/03b_design_peptides/samples/random_hsm_{model}_{target.lower()}')\n",
    "with open(write_dir / 'selectivity_scores.pkl', 'rb') as f:\n",
    "        random_hsm_d_fyn_scores = pickle.load(f)"
   ]
  },
  {
   "cell_type": "code",
   "execution_count": 12,
   "metadata": {},
   "outputs": [],
   "source": [
    "model = 'id'\n",
    "target = 'FYN'\n",
    "iteration = '01'\n",
    "write_dir = Path(f'/home/zhangi/kentsislab/sh2/03b_design_peptides/samples/mcmc_hsm_{model}_{target.lower()}')\n",
    "with open(write_dir / f'selectivity_scores_{iteration}.pkl', 'rb') as f:\n",
    "        mcmc_hsm_id_fyn_01_scores = pickle.load(f)"
   ]
  },
  {
   "cell_type": "code",
   "execution_count": 5,
   "metadata": {},
   "outputs": [],
   "source": [
    "model = 'id'\n",
    "target = 'FYN'\n",
    "iteration = '02'\n",
    "write_dir = Path(f'/home/zhangi/kentsislab/sh2/03b_design_peptides/samples/mcmc_hsm_{model}_{target.lower()}')\n",
    "with open(write_dir / f'selectivity_scores_{iteration}.pkl', 'rb') as f:\n",
    "        mcmc_hsm_id_fyn_02_scores = pickle.load(f)"
   ]
  },
  {
   "cell_type": "code",
   "execution_count": 6,
   "metadata": {},
   "outputs": [],
   "source": [
    "model = 'id'\n",
    "target = 'FYN'\n",
    "iteration = '03'\n",
    "write_dir = Path(f'/home/zhangi/kentsislab/sh2/03b_design_peptides/samples/mcmc_hsm_{model}_{target.lower()}')\n",
    "with open(write_dir / f'selectivity_scores_{iteration}.pkl', 'rb') as f:\n",
    "        mcmc_hsm_id_fyn_03_scores = pickle.load(f)"
   ]
  },
  {
   "cell_type": "code",
   "execution_count": 7,
   "metadata": {},
   "outputs": [],
   "source": [
    "model = 'd'\n",
    "target = 'FYN'\n",
    "iteration = '01'\n",
    "write_dir = Path(f'/home/zhangi/kentsislab/sh2/03b_design_peptides/samples/mcmc_hsm_{model}_{target.lower()}')\n",
    "with open(write_dir / f'selectivity_scores_{iteration}.pkl', 'rb') as f:\n",
    "        mcmc_hsm_d_fyn_01_scores = pickle.load(f)"
   ]
  },
  {
   "cell_type": "code",
   "execution_count": 8,
   "metadata": {},
   "outputs": [],
   "source": [
    "model = 'id'\n",
    "target = 'set'\n",
    "iteration = '01'\n",
    "write_dir = Path(f'/home/zhangi/kentsislab/sh2/03b_design_peptides/samples/mcmc_hsm_{model}_{target.lower()}')\n",
    "with open(write_dir / f'selectivity_scores_{iteration}.pkl', 'rb') as f:\n",
    "        mcmc_hsm_id_set_01_scores = pickle.load(f)"
   ]
  },
  {
   "cell_type": "code",
   "execution_count": 21,
   "metadata": {},
   "outputs": [],
   "source": [
    "model = 'id'\n",
    "target = 'set'\n",
    "iteration = '02'\n",
    "write_dir = Path(f'/home/zhangi/kentsislab/sh2/03b_design_peptides/samples/mcmc_hsm_{model}_{target.lower()}')\n",
    "with open(write_dir / f'selectivity_scores_{iteration}.pkl', 'rb') as f:\n",
    "        random_hsm_id_set_scores = pickle.load(f)"
   ]
  },
  {
   "cell_type": "code",
   "execution_count": 3,
   "metadata": {},
   "outputs": [
    {
     "ename": "FileNotFoundError",
     "evalue": "[Errno 2] No such file or directory: '/home/zhangi/kentsislab/sh2/03b_design_peptides/samples/mcmc_hsm_id_set/selectivity_scores.pkl'",
     "output_type": "error",
     "traceback": [
      "\u001b[0;31m---------------------------------------------------------------------\u001b[0m",
      "\u001b[0;31mFileNotFoundError\u001b[0m                   Traceback (most recent call last)",
      "\u001b[0;32m<ipython-input-3-5701e5f62c14>\u001b[0m in \u001b[0;36m<module>\u001b[0;34m\u001b[0m\n\u001b[1;32m      3\u001b[0m \u001b[0miteration\u001b[0m \u001b[0;34m=\u001b[0m \u001b[0;34m'01'\u001b[0m\u001b[0;34m\u001b[0m\u001b[0;34m\u001b[0m\u001b[0m\n\u001b[1;32m      4\u001b[0m \u001b[0mwrite_dir\u001b[0m \u001b[0;34m=\u001b[0m \u001b[0mPath\u001b[0m\u001b[0;34m(\u001b[0m\u001b[0;34mf'/home/zhangi/kentsislab/sh2/03b_design_peptides/samples/mcmc_hsm_{model}_{target.lower()}'\u001b[0m\u001b[0;34m)\u001b[0m\u001b[0;34m\u001b[0m\u001b[0;34m\u001b[0m\u001b[0m\n\u001b[0;32m----> 5\u001b[0;31m \u001b[0;32mwith\u001b[0m \u001b[0mopen\u001b[0m\u001b[0;34m(\u001b[0m\u001b[0mwrite_dir\u001b[0m \u001b[0;34m/\u001b[0m \u001b[0;34mf'selectivity_scores.pkl'\u001b[0m\u001b[0;34m,\u001b[0m \u001b[0;34m'rb'\u001b[0m\u001b[0;34m)\u001b[0m \u001b[0;32mas\u001b[0m \u001b[0mf\u001b[0m\u001b[0;34m:\u001b[0m\u001b[0;34m\u001b[0m\u001b[0;34m\u001b[0m\u001b[0m\n\u001b[0m\u001b[1;32m      6\u001b[0m         \u001b[0mmcmc_hsm_id_set_01_scores\u001b[0m \u001b[0;34m=\u001b[0m \u001b[0mpickle\u001b[0m\u001b[0;34m.\u001b[0m\u001b[0mload\u001b[0m\u001b[0;34m(\u001b[0m\u001b[0mf\u001b[0m\u001b[0;34m)\u001b[0m\u001b[0;34m\u001b[0m\u001b[0;34m\u001b[0m\u001b[0m\n",
      "\u001b[0;31mFileNotFoundError\u001b[0m: [Errno 2] No such file or directory: '/home/zhangi/kentsislab/sh2/03b_design_peptides/samples/mcmc_hsm_id_set/selectivity_scores.pkl'"
     ]
    }
   ],
   "source": [
    "model = 'id'\n",
    "target = 'set'\n",
    "iteration = '01'\n",
    "write_dir = Path(f'/home/zhangi/kentsislab/sh2/03b_design_peptides/samples/mcmc_hsm_{model}_{target.lower()}')\n",
    "with open(write_dir / f'selectivity_scores_{iteration}.pkl', 'rb') as f:\n",
    "        mcmc_hsm_id_set_01_scores = pickle.load(f)"
   ]
  },
  {
   "cell_type": "code",
   "execution_count": 5,
   "metadata": {},
   "outputs": [],
   "source": [
    "model = 'id'\n",
    "target = 'set'\n",
    "write_dir = Path(f'/home/zhangi/kentsislab/sh2/03b_design_peptides/samples/random_hsm_{model}_{target.lower()}')\n",
    "with open(write_dir / f'selectivity_scores.pkl', 'rb') as f:\n",
    "        random_hsm_id_set_scores = pickle.load(f)"
   ]
  },
  {
   "cell_type": "markdown",
   "metadata": {},
   "source": [
    "# Load initial peptides"
   ]
  },
  {
   "cell_type": "code",
   "execution_count": 14,
   "metadata": {},
   "outputs": [],
   "source": [
    "model = 'id'\n",
    "target = 'FYN'\n",
    "iteration = '01'\n",
    "write_dir = Path(f'/home/zhangi/kentsislab/sh2/03b_design_peptides/samples/mcmc_hsm_{model}_{target.lower()}')\n",
    "with open(write_dir / f'initial_{iteration}.pkl', 'rb') as f:\n",
    "        mcmc_hsm_id_fyn_01_initial = pickle.load(f)"
   ]
  },
  {
   "cell_type": "code",
   "execution_count": 9,
   "metadata": {},
   "outputs": [],
   "source": [
    "model = 'id'\n",
    "target = 'FYN'\n",
    "iteration = '02'\n",
    "write_dir = Path(f'/home/zhangi/kentsislab/sh2/03b_design_peptides/samples/mcmc_hsm_{model}_{target.lower()}')\n",
    "with open(write_dir / f'initial_{iteration}.pkl', 'rb') as f:\n",
    "        mcmc_hsm_id_fyn_02_initial = pickle.load(f)"
   ]
  },
  {
   "cell_type": "code",
   "execution_count": 10,
   "metadata": {},
   "outputs": [],
   "source": [
    "model = 'id'\n",
    "target = 'FYN'\n",
    "iteration = '03'\n",
    "write_dir = Path(f'/home/zhangi/kentsislab/sh2/03b_design_peptides/samples/mcmc_hsm_{model}_{target.lower()}')\n",
    "with open(write_dir / f'initial_{iteration}.pkl', 'rb') as f:\n",
    "        mcmc_hsm_id_fyn_03_initial = pickle.load(f)"
   ]
  },
  {
   "cell_type": "code",
   "execution_count": 11,
   "metadata": {},
   "outputs": [],
   "source": [
    "model = 'd'\n",
    "target = 'FYN'\n",
    "iteration = '01'\n",
    "write_dir = Path(f'/home/zhangi/kentsislab/sh2/03b_design_peptides/samples/mcmc_hsm_{model}_{target.lower()}')\n",
    "with open(write_dir / f'initial_{iteration}.pkl', 'rb') as f:\n",
    "        mcmc_hsm_d_fyn_01_initial = pickle.load(f)"
   ]
  },
  {
   "cell_type": "code",
   "execution_count": 5,
   "metadata": {},
   "outputs": [],
   "source": [
    "model = 'id'\n",
    "target = 'set'\n",
    "iteration = '01'\n",
    "write_dir = Path(f'/home/zhangi/kentsislab/sh2/03b_design_peptides/samples/mcmc_hsm_{model}_{target.lower()}')\n",
    "with open(write_dir / f'initial_{iteration}.pkl', 'rb') as f:\n",
    "        mcmc_hsm_id_set_01_initial = pickle.load(f)"
   ]
  },
  {
   "cell_type": "code",
   "execution_count": 22,
   "metadata": {},
   "outputs": [],
   "source": [
    "model = 'id'\n",
    "target = 'set'\n",
    "iteration = '02'\n",
    "write_dir = Path(f'/home/zhangi/kentsislab/sh2/03b_design_peptides/samples/mcmc_hsm_{model}_{target.lower()}')\n",
    "with open(write_dir / f'initial_{iteration}.pkl', 'rb') as f:\n",
    "        mcmc_hsm_id_set_02_initial = pickle.load(f)"
   ]
  },
  {
   "cell_type": "code",
   "execution_count": 25,
   "metadata": {},
   "outputs": [],
   "source": [
    "model = 'id'\n",
    "target = 'set'\n",
    "iteration = '03'\n",
    "write_dir = Path(f'/home/zhangi/kentsislab/sh2/03b_design_peptides/samples/mcmc_hsm_{model}_{target.lower()}')\n",
    "with open(write_dir / f'initial_{iteration}.pkl', 'rb') as f:\n",
    "        mcmc_hsm_id_set_03_initial = pickle.load(f)"
   ]
  },
  {
   "cell_type": "markdown",
   "metadata": {},
   "source": [
    "# Load peptide trajectories"
   ]
  },
  {
   "cell_type": "code",
   "execution_count": 15,
   "metadata": {},
   "outputs": [],
   "source": [
    "model = 'id'\n",
    "target = 'FYN'\n",
    "iteration = '01'\n",
    "write_dir = Path(f'/home/zhangi/kentsislab/sh2/03b_design_peptides/samples/mcmc_hsm_{model}_{target.lower()}')\n",
    "with open(write_dir / f'peptides_{iteration}.pkl', 'rb') as f:\n",
    "        mcmc_hsm_id_fyn_01_peptides = pickle.load(f)"
   ]
  },
  {
   "cell_type": "code",
   "execution_count": 13,
   "metadata": {},
   "outputs": [
    {
     "data": {
      "text/plain": [
       "['YLYGWGPyTLICGIN',\n",
       " 'YDYGWGPyTLICGIN',\n",
       " 'YDYGWGPyTLICGIY',\n",
       " 'YDYGWGPyTLICDIY',\n",
       " 'YDYGWGPyTLICDIY',\n",
       " 'YDYGWGPyTLICDIY',\n",
       " 'YDYGWGPyTLIVDIY',\n",
       " 'YDYGWGPyTLIVDIY',\n",
       " 'YDYGEGPyTLIVDIY',\n",
       " 'YDEGEGPyTLIVDIY',\n",
       " 'YDHGEGPyTLIVDIY',\n",
       " 'YDHGEGPyTLIVGIY',\n",
       " 'YDHGEGPyTLIVGIY',\n",
       " 'YDHGEGPyTDIVGIY',\n",
       " 'YDHGELPyTDIVGIY',\n",
       " 'YDLGELPyTDIVGIY',\n",
       " 'YDLGELPyTDIVGIY',\n",
       " 'YDLGELPyFDIVGIY',\n",
       " 'YDLGELPyFQIVGIY',\n",
       " 'YDLGEPPyFQIVGIY',\n",
       " 'YDLGEPYyFQIVGIY',\n",
       " 'MDLGEPYyFQIVGIY',\n",
       " 'MDLGKPYyFQIVGIY',\n",
       " 'MDLGKPYyFQIVGIQ',\n",
       " 'MDHGKPYyFQIVGIQ',\n",
       " 'CDHGKPYyFQIVGIQ',\n",
       " 'CDSGKPYyFQIVGIQ',\n",
       " 'CDSGKPMyFQIVGIQ',\n",
       " 'CDSGKPMyFQPVGIQ',\n",
       " 'CDSGKPMyFQPVGIY',\n",
       " 'CSSGKPMyFQPVGIY',\n",
       " 'CSSGKPMyFQPVGIF',\n",
       " 'CSSGKPMyFQPVGQF',\n",
       " 'CSSGKPKyFQPVGQF',\n",
       " 'CSSGKPKyFQPVGPF',\n",
       " 'CSKGKPKyFQPVGPF',\n",
       " 'CSKGKHKyFQPVGPF',\n",
       " 'CHKGKHKyFQPVGPF',\n",
       " 'CHKGKHKyRQPVGPF',\n",
       " 'CHKGKHQyRQPVGPF',\n",
       " 'CHKGKHQyRQPVGPD',\n",
       " 'CHKGKHQyRQPVGPA',\n",
       " 'CHKGCHQyRQPVGPA',\n",
       " 'CHKGCHQyRNPVGPA',\n",
       " 'CHKGCHQyRNPVGPA',\n",
       " 'CHKGCHQyRNPVGPA',\n",
       " 'CHKGCHQyRYPVGPA',\n",
       " 'CNKGCHQyRYPVGPA',\n",
       " 'CNKGCHQyRYPVGPA',\n",
       " 'CNKGCHQyQYPVGPA',\n",
       " 'CNKGCHQyDYPVGPA',\n",
       " 'CNKGCHQyDYPVGKA',\n",
       " 'CNKGCHVyDYPVGKA',\n",
       " 'CNKGCHVyDYPVGKA',\n",
       " 'CAKGCHVyDYPVGKA',\n",
       " 'CAKGCHVyDYPVGKA',\n",
       " 'CAKGIHVyDYPVGKA',\n",
       " 'CAKGFHVyDYPVGKA',\n",
       " 'CAKRFHVyDYPVGKA',\n",
       " 'CFKRFHVyDYPVGKA',\n",
       " 'CFKCFHVyDYPVGKA',\n",
       " 'CFKCFHPyDYPVGKA',\n",
       " 'CFKCFHPyDYPVGKA',\n",
       " 'CFKCFHPyDYPVGKA',\n",
       " 'CFKCFHPyDYPVAKA',\n",
       " 'CFKCFHPyTYPVAKA',\n",
       " 'CWKCFHPyTYPVAKA',\n",
       " 'CWKCFHCyTYPVAKA',\n",
       " 'CWKCFHCyNYPVAKA',\n",
       " 'CWKCFHCyNYPAAKA',\n",
       " 'CWKCFHCyNYPAAKA',\n",
       " 'GWKCFHCyNYPAAKA',\n",
       " 'GWKCFHCyNYPAAKA',\n",
       " 'GWKCFHRyNYPAAKA',\n",
       " 'GWKCFHRyNPPAAKA',\n",
       " 'GGKCFHRyNPPAAKA',\n",
       " 'GGKCFHRyNPPAAKA',\n",
       " 'GWKCFHRyNPPAAKA',\n",
       " 'GWKCFHRyNPPAAKA',\n",
       " 'GWKCFHRyNPPAPKA',\n",
       " 'GAKCFHRyNPPAPKA',\n",
       " 'GAKCFHRyNPPAPKM',\n",
       " 'TAKCFHRyNPPAPKM',\n",
       " 'TAKAFHRyNPPAPKM',\n",
       " 'TAKAFHRyNNPAPKM',\n",
       " 'TAKAFHRyNNPTPKM',\n",
       " 'TAKAFHRyGNPTPKM',\n",
       " 'TAKAFHRyGNPLPKM',\n",
       " 'TAKQFHRyGNPLPKM',\n",
       " 'TAKQHHRyGNPLPKM',\n",
       " 'TAKQQHRyGNPLPKM',\n",
       " 'TAKQQHRyGNPLPKM',\n",
       " 'TAKQQHRyDNPLPKM',\n",
       " 'TAKQQHRyDNPLPKM',\n",
       " 'TAKQQHRyDNPLPKM',\n",
       " 'TAKQQHRyDNPQPKM',\n",
       " 'TLKQQHRyDNPQPKM',\n",
       " 'THKQQHRyDNPQPKM',\n",
       " 'THKQQHRyDWPQPKM',\n",
       " 'THKQQHRyDWPQPLM']"
      ]
     },
     "execution_count": 13,
     "metadata": {},
     "output_type": "execute_result"
    }
   ],
   "source": [
    "mcmc_hsm_id_fyn_01_peptides[-100:]"
   ]
  },
  {
   "cell_type": "code",
   "execution_count": 14,
   "metadata": {},
   "outputs": [],
   "source": [
    "model = 'id'\n",
    "target = 'FYN'\n",
    "iteration = '02'\n",
    "write_dir = Path(f'/home/zhangi/kentsislab/sh2/03b_design_peptides/samples/mcmc_hsm_{model}_{target.lower()}')\n",
    "with open(write_dir / f'peptides_{iteration}.pkl', 'rb') as f:\n",
    "        mcmc_hsm_id_fyn_02_peptides = pickle.load(f)"
   ]
  },
  {
   "cell_type": "code",
   "execution_count": 15,
   "metadata": {},
   "outputs": [],
   "source": [
    "model = 'id'\n",
    "target = 'FYN'\n",
    "iteration = '03'\n",
    "write_dir = Path(f'/home/zhangi/kentsislab/sh2/03b_design_peptides/samples/mcmc_hsm_{model}_{target.lower()}')\n",
    "with open(write_dir / f'peptides_{iteration}.pkl', 'rb') as f:\n",
    "        mcmc_hsm_id_fyn_03_peptides = pickle.load(f)"
   ]
  },
  {
   "cell_type": "code",
   "execution_count": 16,
   "metadata": {},
   "outputs": [],
   "source": [
    "model = 'd'\n",
    "target = 'FYN'\n",
    "iteration = '01'\n",
    "write_dir = Path(f'/home/zhangi/kentsislab/sh2/03b_design_peptides/samples/mcmc_hsm_{model}_{target.lower()}')\n",
    "with open(write_dir / f'peptides_{iteration}.pkl', 'rb') as f:\n",
    "        mcmc_hsm_d_fyn_01_peptides = pickle.load(f)"
   ]
  },
  {
   "cell_type": "code",
   "execution_count": 6,
   "metadata": {},
   "outputs": [],
   "source": [
    "model = 'id'\n",
    "target = 'set'\n",
    "iteration = '01'\n",
    "write_dir = Path(f'/home/zhangi/kentsislab/sh2/03b_design_peptides/samples/mcmc_hsm_{model}_{target.lower()}')\n",
    "with open(write_dir / f'peptides_{iteration}.pkl', 'rb') as f:\n",
    "        mcmc_hsm_id_set_01_peptides = pickle.load(f)"
   ]
  },
  {
   "cell_type": "code",
   "execution_count": 23,
   "metadata": {},
   "outputs": [],
   "source": [
    "model = 'id'\n",
    "target = 'set'\n",
    "iteration = '02'\n",
    "write_dir = Path(f'/home/zhangi/kentsislab/sh2/03b_design_peptides/samples/mcmc_hsm_{model}_{target.lower()}')\n",
    "with open(write_dir / f'peptides_{iteration}.pkl', 'rb') as f:\n",
    "        mcmc_hsm_id_set_02_peptides = pickle.load(f)"
   ]
  },
  {
   "cell_type": "code",
   "execution_count": 26,
   "metadata": {},
   "outputs": [],
   "source": [
    "model = 'id'\n",
    "target = 'set'\n",
    "iteration = '03'\n",
    "write_dir = Path(f'/home/zhangi/kentsislab/sh2/03b_design_peptides/samples/mcmc_hsm_{model}_{target.lower()}')\n",
    "with open(write_dir / f'peptides_{iteration}.pkl', 'rb') as f:\n",
    "        mcmc_hsm_id_set_03_peptides = pickle.load(f)"
   ]
  },
  {
   "cell_type": "code",
   "execution_count": 6,
   "metadata": {},
   "outputs": [],
   "source": [
    "model = 'id'\n",
    "target = 'set'\n",
    "write_dir = Path(f'/home/zhangi/kentsislab/sh2/03b_design_peptides/samples/random_hsm_{model}_{target.lower()}')\n",
    "with open(write_dir / f'peptides.pkl', 'rb') as f:\n",
    "        random_hsm_id_set_peptides = pickle.load(f)"
   ]
  },
  {
   "cell_type": "markdown",
   "metadata": {},
   "source": [
    "# Load acceptance rates"
   ]
  },
  {
   "cell_type": "code",
   "execution_count": 16,
   "metadata": {},
   "outputs": [],
   "source": [
    "model = 'id'\n",
    "target = 'FYN'\n",
    "iteration = '01'\n",
    "write_dir = Path(f'/home/zhangi/kentsislab/sh2/03b_design_peptides/samples/mcmc_hsm_{model}_{target.lower()}')\n",
    "with open(write_dir / f'acceptance_{iteration}.pkl', 'rb') as f:\n",
    "        mcmc_hsm_id_fyn_01_acceptance = pickle.load(f)"
   ]
  },
  {
   "cell_type": "code",
   "execution_count": 18,
   "metadata": {},
   "outputs": [
    {
     "data": {
      "text/plain": [
       "0.8046"
      ]
     },
     "execution_count": 18,
     "metadata": {},
     "output_type": "execute_result"
    }
   ],
   "source": [
    "mcmc_hsm_id_fyn_01_acceptance"
   ]
  },
  {
   "cell_type": "code",
   "execution_count": 19,
   "metadata": {},
   "outputs": [],
   "source": [
    "model = 'id'\n",
    "target = 'FYN'\n",
    "iteration = '02'\n",
    "write_dir = Path(f'/home/zhangi/kentsislab/sh2/03b_design_peptides/samples/mcmc_hsm_{model}_{target.lower()}')\n",
    "with open(write_dir / f'acceptance_{iteration}.pkl', 'rb') as f:\n",
    "        mcmc_hsm_id_fyn_02_acceptance = pickle.load(f)"
   ]
  },
  {
   "cell_type": "code",
   "execution_count": 20,
   "metadata": {},
   "outputs": [
    {
     "data": {
      "text/plain": [
       "0.8111"
      ]
     },
     "execution_count": 20,
     "metadata": {},
     "output_type": "execute_result"
    }
   ],
   "source": [
    "mcmc_hsm_id_fyn_02_acceptance"
   ]
  },
  {
   "cell_type": "code",
   "execution_count": 21,
   "metadata": {},
   "outputs": [],
   "source": [
    "model = 'id'\n",
    "target = 'FYN'\n",
    "iteration = '03'\n",
    "write_dir = Path(f'/home/zhangi/kentsislab/sh2/03b_design_peptides/samples/mcmc_hsm_{model}_{target.lower()}')\n",
    "with open(write_dir / f'acceptance_{iteration}.pkl', 'rb') as f:\n",
    "        mcmc_hsm_id_fyn_03_acceptance = pickle.load(f)"
   ]
  },
  {
   "cell_type": "code",
   "execution_count": 22,
   "metadata": {},
   "outputs": [
    {
     "data": {
      "text/plain": [
       "0.8003"
      ]
     },
     "execution_count": 22,
     "metadata": {},
     "output_type": "execute_result"
    }
   ],
   "source": [
    "mcmc_hsm_id_fyn_03_acceptance"
   ]
  },
  {
   "cell_type": "code",
   "execution_count": 23,
   "metadata": {},
   "outputs": [],
   "source": [
    "model = 'd'\n",
    "target = 'FYN'\n",
    "iteration = '01'\n",
    "write_dir = Path(f'/home/zhangi/kentsislab/sh2/03b_design_peptides/samples/mcmc_hsm_{model}_{target.lower()}')\n",
    "with open(write_dir / f'acceptance_{iteration}.pkl', 'rb') as f:\n",
    "        mcmc_hsm_d_fyn_01_acceptance = pickle.load(f)"
   ]
  },
  {
   "cell_type": "code",
   "execution_count": 24,
   "metadata": {},
   "outputs": [
    {
     "data": {
      "text/plain": [
       "0.7741"
      ]
     },
     "execution_count": 24,
     "metadata": {},
     "output_type": "execute_result"
    }
   ],
   "source": [
    "mcmc_hsm_d_fyn_01_acceptance"
   ]
  },
  {
   "cell_type": "code",
   "execution_count": 7,
   "metadata": {},
   "outputs": [],
   "source": [
    "model = 'id'\n",
    "target = 'set'\n",
    "iteration = '01'\n",
    "write_dir = Path(f'/home/zhangi/kentsislab/sh2/03b_design_peptides/samples/mcmc_hsm_{model}_{target.lower()}')\n",
    "with open(write_dir / f'acceptance_{iteration}.pkl', 'rb') as f:\n",
    "        mcmc_hsm_id_set_01_acceptance = pickle.load(f)"
   ]
  },
  {
   "cell_type": "code",
   "execution_count": 8,
   "metadata": {},
   "outputs": [
    {
     "data": {
      "text/plain": [
       "0.8261"
      ]
     },
     "execution_count": 8,
     "metadata": {},
     "output_type": "execute_result"
    }
   ],
   "source": [
    "mcmc_hsm_id_set_01_acceptance"
   ]
  },
  {
   "cell_type": "code",
   "execution_count": 29,
   "metadata": {},
   "outputs": [],
   "source": [
    "model = 'id'\n",
    "target = 'set'\n",
    "iteration = '02'\n",
    "write_dir = Path(f'/home/zhangi/kentsislab/sh2/03b_design_peptides/samples/mcmc_hsm_{model}_{target.lower()}')\n",
    "with open(write_dir / f'acceptance_{iteration}.pkl', 'rb') as f:\n",
    "        mcmc_hsm_id_set_02_acceptance = pickle.load(f)"
   ]
  },
  {
   "cell_type": "code",
   "execution_count": 30,
   "metadata": {},
   "outputs": [
    {
     "data": {
      "text/plain": [
       "0.8234"
      ]
     },
     "execution_count": 30,
     "metadata": {},
     "output_type": "execute_result"
    }
   ],
   "source": [
    "mcmc_hsm_id_set_02_acceptance"
   ]
  },
  {
   "cell_type": "code",
   "execution_count": 27,
   "metadata": {},
   "outputs": [],
   "source": [
    "model = 'id'\n",
    "target = 'set'\n",
    "iteration = '03'\n",
    "write_dir = Path(f'/home/zhangi/kentsislab/sh2/03b_design_peptides/samples/mcmc_hsm_{model}_{target.lower()}')\n",
    "with open(write_dir / f'acceptance_{iteration}.pkl', 'rb') as f:\n",
    "        mcmc_hsm_id_set_03_acceptance = pickle.load(f)"
   ]
  },
  {
   "cell_type": "code",
   "execution_count": 28,
   "metadata": {},
   "outputs": [
    {
     "data": {
      "text/plain": [
       "0.817"
      ]
     },
     "execution_count": 28,
     "metadata": {},
     "output_type": "execute_result"
    }
   ],
   "source": [
    "mcmc_hsm_id_set_03_acceptance"
   ]
  },
  {
   "cell_type": "markdown",
   "metadata": {},
   "source": [
    "# Load raw scores"
   ]
  },
  {
   "cell_type": "code",
   "execution_count": 32,
   "metadata": {},
   "outputs": [],
   "source": [
    "model = 'id'\n",
    "target = 'FYN'\n",
    "iteration = '01'\n",
    "write_dir = Path(f'/home/zhangi/kentsislab/sh2/03b_design_peptides/samples/mcmc_hsm_{model}_{target.lower()}')\n",
    "with open(write_dir / f'raw_scores_{iteration}.pkl', 'rb') as f:\n",
    "        mcmc_hsm_id_fyn_01_raw_scores = pickle.load(f)"
   ]
  },
  {
   "cell_type": "code",
   "execution_count": 33,
   "metadata": {},
   "outputs": [],
   "source": [
    "model = 'id'\n",
    "target = 'FYN'\n",
    "iteration = '02'\n",
    "write_dir = Path(f'/home/zhangi/kentsislab/sh2/03b_design_peptides/samples/mcmc_hsm_{model}_{target.lower()}')\n",
    "with open(write_dir / f'raw_scores_{iteration}.pkl', 'rb') as f:\n",
    "        mcmc_hsm_id_fyn_02_raw_scores = pickle.load(f)"
   ]
  },
  {
   "cell_type": "code",
   "execution_count": 34,
   "metadata": {},
   "outputs": [],
   "source": [
    "model = 'id'\n",
    "target = 'FYN'\n",
    "iteration = '03'\n",
    "write_dir = Path(f'/home/zhangi/kentsislab/sh2/03b_design_peptides/samples/mcmc_hsm_{model}_{target.lower()}')\n",
    "with open(write_dir / f'raw_scores_{iteration}.pkl', 'rb') as f:\n",
    "        mcmc_hsm_id_fyn_03_raw_scores = pickle.load(f)"
   ]
  },
  {
   "cell_type": "code",
   "execution_count": 35,
   "metadata": {},
   "outputs": [],
   "source": [
    "model = 'd'\n",
    "target = 'FYN'\n",
    "iteration = '01'\n",
    "write_dir = Path(f'/home/zhangi/kentsislab/sh2/03b_design_peptides/samples/mcmc_hsm_{model}_{target.lower()}')\n",
    "with open(write_dir / f'raw_scores_{iteration}.pkl', 'rb') as f:\n",
    "        mcmc_hsm_d_fyn_01_raw_scores = pickle.load(f)"
   ]
  },
  {
   "cell_type": "code",
   "execution_count": 9,
   "metadata": {},
   "outputs": [],
   "source": [
    "model = 'id'\n",
    "target = 'set'\n",
    "iteration = '01'\n",
    "write_dir = Path(f'/home/zhangi/kentsislab/sh2/03b_design_peptides/samples/mcmc_hsm_{model}_{target.lower()}')\n",
    "with open(write_dir / f'raw_scores_{iteration}.pkl', 'rb') as f:\n",
    "        mcmc_hsm_id_set_01_raw_scores = pickle.load(f)"
   ]
  },
  {
   "cell_type": "code",
   "execution_count": 31,
   "metadata": {},
   "outputs": [],
   "source": [
    "model = 'id'\n",
    "target = 'set'\n",
    "iteration = '02'\n",
    "write_dir = Path(f'/home/zhangi/kentsislab/sh2/03b_design_peptides/samples/mcmc_hsm_{model}_{target.lower()}')\n",
    "with open(write_dir / f'raw_scores_{iteration}.pkl', 'rb') as f:\n",
    "        mcmc_hsm_id_set_02_raw_scores = pickle.load(f)"
   ]
  },
  {
   "cell_type": "code",
   "execution_count": 32,
   "metadata": {},
   "outputs": [],
   "source": [
    "model = 'id'\n",
    "target = 'set'\n",
    "iteration = '03'\n",
    "write_dir = Path(f'/home/zhangi/kentsislab/sh2/03b_design_peptides/samples/mcmc_hsm_{model}_{target.lower()}')\n",
    "with open(write_dir / f'raw_scores_{iteration}.pkl', 'rb') as f:\n",
    "        mcmc_hsm_id_set_03_raw_scores = pickle.load(f)"
   ]
  },
  {
   "cell_type": "markdown",
   "metadata": {},
   "source": [
    "# Genrate plots"
   ]
  },
  {
   "cell_type": "code",
   "execution_count": 18,
   "metadata": {},
   "outputs": [
    {
     "data": {
      "image/png": "[encoded data removed]",
      "text/plain": [
       "<Figure size 432x288 with 1 Axes>"
      ]
     },
     "metadata": {
      "needs_background": "light"
     },
     "output_type": "display_data"
    }
   ],
   "source": [
    "model = 'id'\n",
    "target = 'FYN'\n",
    "iteration = '01'\n",
    "write_dir = Path(f'/home/zhangi/kentsislab/sh2/03b_design_peptides/samples/mcmc_hsm_{model}_{target.lower()}')\n",
    "\n",
    "hist_kwargs = {'density': True, 'bins': 20, 'alpha': 0.5, 'histtype':'stepfilled'}\n",
    "plt.hist(random_hsm_id_fyn_scores, label='random', **hist_kwargs);\n",
    "plt.hist(mcmc_hsm_id_fyn_01_scores[1000:], label='MCMC-sampled', **hist_kwargs);\n",
    "plt.legend(loc='best')\n",
    "plt.xlabel('log(selectivity)')\n",
    "plt.title(f\"Distribution of selectivity scores for peptides \\n targeting FYN with initial peptide: {mcmc_hsm_id_fyn_01_initial}\")\n",
    "plt.savefig(write_dir / f'plot_{iteration}_vs_rand.png', dpi=300)"
   ]
  },
  {
   "cell_type": "code",
   "execution_count": 73,
   "metadata": {},
   "outputs": [
    {
     "data": {
      "image/png": "[encoded data removed]",
      "text/plain": [
       "<Figure size 432x288 with 1 Axes>"
      ]
     },
     "metadata": {
      "needs_background": "light"
     },
     "output_type": "display_data"
    }
   ],
   "source": [
    "model = 'id'\n",
    "target = 'FYN'\n",
    "iteration = '02'\n",
    "write_dir = Path(f'/home/zhangi/kentsislab/sh2/03b_design_peptides/samples/mcmc_hsm_{model}_{target.lower()}')\n",
    "\n",
    "hist_kwargs = {'density': True, 'bins': 20, 'alpha': 0.5, 'histtype':'stepfilled'}\n",
    "plt.hist(random_hsm_id_fyn_scores, label='random', **hist_kwargs);\n",
    "plt.hist(mcmc_hsm_id_fyn_02_scores[1000:], label='MCMC-sampled', **hist_kwargs);\n",
    "plt.legend(loc='best')\n",
    "plt.xlabel('log(selectivity)')\n",
    "plt.title(f\"Distribution of selectivity scores for HSM/ID \\n for FYN with initial peptide: {mcmc_hsm_id_fyn_02_initial}\")\n",
    "plt.savefig(write_dir / f'plot_{iteration}_vs_rand.png', dpi=300)"
   ]
  },
  {
   "cell_type": "code",
   "execution_count": 74,
   "metadata": {},
   "outputs": [
    {
     "data": {
      "image/png": "[encoded data removed]",
      "text/plain": [
       "<Figure size 432x288 with 1 Axes>"
      ]
     },
     "metadata": {
      "needs_background": "light"
     },
     "output_type": "display_data"
    }
   ],
   "source": [
    "model = 'id'\n",
    "target = 'FYN'\n",
    "iteration = '03'\n",
    "write_dir = Path(f'/home/zhangi/kentsislab/sh2/03b_design_peptides/samples/mcmc_hsm_{model}_{target.lower()}')\n",
    "\n",
    "hist_kwargs = {'density': True, 'bins': 20, 'alpha': 0.5, 'histtype':'stepfilled'}\n",
    "plt.hist(random_hsm_id_fyn_scores, label='random', **hist_kwargs);\n",
    "plt.hist(mcmc_hsm_id_fyn_03_scores[1000:], label='MCMC-sampled', **hist_kwargs);\n",
    "plt.legend(loc='best')\n",
    "plt.xlabel('log(selectivity)')\n",
    "plt.title(f\"Distribution of selectivity scores for HSM/ID \\n for FYN with initial peptide: {mcmc_hsm_id_fyn_03_initial}\")\n",
    "plt.savefig(write_dir / f'plot_{iteration}_vs_rand.png', dpi=300)"
   ]
  },
  {
   "cell_type": "code",
   "execution_count": 75,
   "metadata": {},
   "outputs": [
    {
     "data": {
      "image/png": "[encoded data removed]",
      "text/plain": [
       "<Figure size 432x288 with 1 Axes>"
      ]
     },
     "metadata": {
      "needs_background": "light"
     },
     "output_type": "display_data"
    }
   ],
   "source": [
    "model = 'd'\n",
    "target = 'FYN'\n",
    "iteration = '01'\n",
    "write_dir = Path(f'/home/zhangi/kentsislab/sh2/03b_design_peptides/samples/mcmc_hsm_{model}_{target.lower()}')\n",
    "\n",
    "hist_kwargs = {'density': True, 'bins': 20, 'alpha': 0.5, 'histtype':'stepfilled'}\n",
    "plt.hist(random_hsm_d_fyn_scores, label='random', **hist_kwargs);\n",
    "plt.hist(mcmc_hsm_d_fyn_01_scores[1000:], label='MCMC-sampled', **hist_kwargs);\n",
    "plt.legend(loc='best')\n",
    "plt.xlabel('log(selectivity)')\n",
    "plt.title(f\"Distribution of selectivity scores for HSM/D \\n for FYN with initial peptide: {mcmc_hsm_d_fyn_01_initial}\")\n",
    "plt.savefig(write_dir / f'plot_{iteration}_vs_rand.png', dpi=300)"
   ]
  },
  {
   "cell_type": "code",
   "execution_count": 11,
   "metadata": {},
   "outputs": [
    {
     "data": {
      "image/png": "[encoded data removed]",
      "text/plain": [
       "<Figure size 432x288 with 1 Axes>"
      ]
     },
     "metadata": {
      "needs_background": "light"
     },
     "output_type": "display_data"
    }
   ],
   "source": [
    "model = 'id'\n",
    "target = 'set'\n",
    "iteration = '01'\n",
    "write_dir = Path(f'/home/zhangi/kentsislab/sh2/03b_design_peptides/samples/mcmc_hsm_{model}_{target.lower()}')\n",
    "\n",
    "hist_kwargs = {'density': True, 'bins': 20, 'alpha': 0.5, 'histtype':'stepfilled'}\n",
    "plt.hist(random_hsm_id_set_scores, label='random', **hist_kwargs);\n",
    "plt.hist(mcmc_hsm_id_set_01_scores[1000:], label='MCMC-sampled', **hist_kwargs);\n",
    "plt.legend(loc='best')\n",
    "plt.xlabel('log(selectivity)')\n",
    "plt.title(f\"Distribution of selectivity scores for peptide sets \\n targeting 9 SH2 domains\")\n",
    "plt.savefig(write_dir / f'plot_{iteration}_vs_rand.png', dpi=300)"
   ]
  },
  {
   "cell_type": "markdown",
   "metadata": {},
   "source": [
    "# Examine top scoring peptides"
   ]
  },
  {
   "cell_type": "code",
   "execution_count": 25,
   "metadata": {},
   "outputs": [
    {
     "data": {
      "text/plain": [
       "array([-3.19052955, -3.00206976, -1.03018211, ...,  0.56298575,\n",
       "        1.00042722,  1.2163681 ])"
      ]
     },
     "execution_count": 25,
     "metadata": {},
     "output_type": "execute_result"
    }
   ],
   "source": [
    "mcmc_hsm_id_fyn_01_scores"
   ]
  },
  {
   "cell_type": "code",
   "execution_count": 26,
   "metadata": {},
   "outputs": [],
   "source": [
    "import numpy as np\n",
    "top_10_idxs = np.argsort(mcmc_hsm_id_fyn_01_scores)[-10:] # returns indices of elements sorted from smallest to largest"
   ]
  },
  {
   "cell_type": "code",
   "execution_count": 27,
   "metadata": {},
   "outputs": [],
   "source": [
    "top_10_scores = [mcmc_hsm_id_fyn_01_scores[i] for i in top_10_idxs]"
   ]
  },
  {
   "cell_type": "code",
   "execution_count": 28,
   "metadata": {},
   "outputs": [
    {
     "data": {
      "text/plain": [
       "[4.790969710163573,\n",
       " 4.824318549225798,\n",
       " 4.86475307555396,\n",
       " 4.86475307555396,\n",
       " 4.879310334263595,\n",
       " 4.926075307586105,\n",
       " 4.940956621098785,\n",
       " 5.044852205918636,\n",
       " 5.044852205918636,\n",
       " 5.2292707852301925]"
      ]
     },
     "execution_count": 28,
     "metadata": {},
     "output_type": "execute_result"
    }
   ],
   "source": [
    "top_10_scores"
   ]
  },
  {
   "cell_type": "code",
   "execution_count": 37,
   "metadata": {},
   "outputs": [],
   "source": [
    "top_10_peptides = [mcmc_hsm_id_fyn_01_peptides[i] for i in top_10_idxs]"
   ]
  },
  {
   "cell_type": "code",
   "execution_count": 30,
   "metadata": {},
   "outputs": [
    {
     "data": {
      "text/plain": [
       "['DHDHANVyDEPPPPA',\n",
       " 'DHDHANVyDEPDPPA',\n",
       " 'KNDDDWQyEPIKKHA',\n",
       " 'KNDDDWQyEPIKKHA',\n",
       " 'DDDAVPVyYDIDEGC',\n",
       " 'PSNELKGyEEVPGTC',\n",
       " 'PSNELDGyEEVPGTC',\n",
       " 'PNDMDVQyEPIKKHA',\n",
       " 'PNDMDVQyEPIKKHA',\n",
       " 'KHDHANTyDEPDPPA']"
      ]
     },
     "execution_count": 30,
     "metadata": {},
     "output_type": "execute_result"
    }
   ],
   "source": [
    "top_10_peptides"
   ]
  },
  {
   "cell_type": "code",
   "execution_count": 39,
   "metadata": {},
   "outputs": [],
   "source": [
    "top_10_raw_scores = [mcmc_hsm_id_fyn_01_raw_scores[i] for i in top_10_idxs]"
   ]
  },
  {
   "cell_type": "code",
   "execution_count": 44,
   "metadata": {},
   "outputs": [
    {
     "name": "stdout",
     "output_type": "stream",
     "text": [
      "KHDHANTyDEPDPPA 5.2292707852301925 [0.93, 0.01, 0.0, 0.02, 0.0, 0.01, 0.0, 0.01, 0.03]\n",
      "PNDMDVQyEPIKKHA 5.044852205918636 [0.96, 0.04, 0.03, 0.02, 0.02, 0.0, 0.0, 0.01, 0.02]\n",
      "PNDMDVQyEPIKKHA 5.044852205918636 [0.89, 0.02, 0.01, 0.04, 0.02, 0.0, 0.0, 0.0, 0.02]\n",
      "PSNELDGyEEVPGTC 4.940956621098785 [0.99, 0.03, 0.11, 0.23, 0.14, 0.0, 0.0, 0.03, 0.14]\n",
      "PSNELKGyEEVPGTC 4.926075307586105 [0.99, 0.04, 0.15, 0.1, 0.07, 0.0, 0.0, 0.02, 0.12]\n",
      "DDDAVPVyYDIDEGC 4.879310334263595 [0.99, 0.12, 0.05, 0.13, 0.08, 0.04, 0.05, 0.03, 0.05]\n",
      "KNDDDWQyEPIKKHA 4.86475307555396 [0.95, 0.07, 0.05, 0.03, 0.02, 0.0, 0.0, 0.03, 0.03]\n",
      "KNDDDWQyEPIKKHA 4.86475307555396 [0.96, 0.03, 0.04, 0.02, 0.02, 0.0, 0.0, 0.03, 0.03]\n",
      "DHDHANVyDEPDPPA 4.824318549225798 [0.91, 0.01, 0.0, 0.02, 0.01, 0.01, 0.0, 0.01, 0.02]\n",
      "DHDHANVyDEPPPPA 4.790969710163573 [0.9, 0.0, 0.0, 0.02, 0.01, 0.0, 0.0, 0.01, 0.02]\n"
     ]
    }
   ],
   "source": [
    "for peptide, score, raw_score in zip(top_10_peptides[::-1], top_10_scores[::-1], top_10_raw_scores[::-1]):\n",
    "    print(peptide, score, [round(val,2) for val in raw_score])"
   ]
  },
  {
   "cell_type": "code",
   "execution_count": 41,
   "metadata": {},
   "outputs": [
    {
     "data": {
      "text/plain": [
       "[[0.9306791508052588,\n",
       "  0.006759618850785156,\n",
       "  0.002355851193867099,\n",
       "  0.015457832126344703,\n",
       "  0.00432861280208796,\n",
       "  0.005903448131304839,\n",
       "  0.0018444520038748847,\n",
       "  0.006861619957149571,\n",
       "  0.027253184565523312],\n",
       " [0.9558997504055584,\n",
       "  0.042572430646326265,\n",
       "  0.02761452857413881,\n",
       "  0.016246911277443522,\n",
       "  0.015595561667466873,\n",
       "  0.003705205876785022,\n",
       "  0.0045124744676001615,\n",
       "  0.006279661909421072,\n",
       "  0.019463553121154033],\n",
       " [0.8873852444886152,\n",
       "  0.019762755441379558,\n",
       "  0.01406572477974804,\n",
       "  0.04008791741944852,\n",
       "  0.018405786551151958,\n",
       "  0.0019677492036374485,\n",
       "  0.0046799469622531105,\n",
       "  0.004763313800025703,\n",
       "  0.02027394625446131],\n",
       " [0.991131748404384,\n",
       "  0.029031675652426793,\n",
       "  0.10553462089024508,\n",
       "  0.2253256081996331,\n",
       "  0.13994366263609198,\n",
       "  0.002480945510211424,\n",
       "  0.0032766112189066285,\n",
       "  0.031123341944359777,\n",
       "  0.1375467815988243],\n",
       " [0.9873712923423338,\n",
       "  0.04313788976073226,\n",
       "  0.14897688815178797,\n",
       "  0.0988233133047527,\n",
       "  0.06790648705962192,\n",
       "  0.002324702187480593,\n",
       "  0.002850766314047418,\n",
       "  0.018425356150232452,\n",
       "  0.12327644007123224],\n",
       " [0.9874554863884948,\n",
       "  0.11770498315667192,\n",
       "  0.0510315778240916,\n",
       "  0.12762222366435386,\n",
       "  0.08174888346655006,\n",
       "  0.044331407941879175,\n",
       "  0.048339137159282224,\n",
       "  0.025477305525662058,\n",
       "  0.049963977395460886],\n",
       " [0.9464875054954932,\n",
       "  0.07191927787805763,\n",
       "  0.04987162141289087,\n",
       "  0.03116152169592198,\n",
       "  0.019784180134483492,\n",
       "  0.0013581710246612186,\n",
       "  0.0018790369229076773,\n",
       "  0.02557065249909128,\n",
       "  0.026386526724156884],\n",
       " [0.9578539669114212,\n",
       "  0.0347490409165349,\n",
       "  0.03713213234764093,\n",
       "  0.02396892296826193,\n",
       "  0.016409885715007278,\n",
       "  0.0007293196790230131,\n",
       "  0.0010502296026743462,\n",
       "  0.025691137068612948,\n",
       "  0.030401872873084487],\n",
       " [0.9141126317381996,\n",
       "  0.013984028447248723,\n",
       "  0.002510215895354662,\n",
       "  0.022699067379481047,\n",
       "  0.010782181277674757,\n",
       "  0.009338743632432277,\n",
       "  0.002293336609041901,\n",
       "  0.0069035872657493245,\n",
       "  0.01573278220547917],\n",
       " [0.9012859469255006,\n",
       "  0.004867622181349715,\n",
       "  0.004026288569442385,\n",
       "  0.02274062937048637,\n",
       "  0.00959384461715478,\n",
       "  0.004203632715977125,\n",
       "  0.0009856086937778048,\n",
       "  0.009366698286437736,\n",
       "  0.018903399317463997]]"
      ]
     },
     "execution_count": 41,
     "metadata": {},
     "output_type": "execute_result"
    }
   ],
   "source": [
    "top_10_raw_scores[::-1]"
   ]
  },
  {
   "cell_type": "markdown",
   "metadata": {},
   "source": [
    "# Examine top scoring peptide sets"
   ]
  },
  {
   "cell_type": "code",
   "execution_count": 42,
   "metadata": {},
   "outputs": [
    {
     "data": {
      "text/plain": [
       "array([-26.11266699, -26.09844636, -24.20038576, ...,  -3.93626299,\n",
       "        -3.20740692,  -3.6816094 ])"
      ]
     },
     "execution_count": 42,
     "metadata": {},
     "output_type": "execute_result"
    }
   ],
   "source": [
    "mcmc_hsm_id_set_03_scores"
   ]
  },
  {
   "cell_type": "code",
   "execution_count": 45,
   "metadata": {},
   "outputs": [],
   "source": [
    "import numpy as np\n",
    "top_10_idxs = np.argsort(mcmc_hsm_id_set_03_scores)[-10:] # returns indices of elements sorted from smallest to largest"
   ]
  },
  {
   "cell_type": "code",
   "execution_count": 46,
   "metadata": {},
   "outputs": [],
   "source": [
    "top_10_scores = [mcmc_hsm_id_set_03_scores[i] for i in top_10_idxs]"
   ]
  },
  {
   "cell_type": "code",
   "execution_count": 47,
   "metadata": {},
   "outputs": [
    {
     "data": {
      "text/plain": [
       "[6.475143263309436,\n",
       " 6.475143263309436,\n",
       " 6.613170276572397,\n",
       " 6.613170276572397,\n",
       " 6.613170276572397,\n",
       " 6.937250571296383,\n",
       " 6.969637119816603,\n",
       " 7.072355969896199,\n",
       " 7.086920157929068,\n",
       " 7.1138932774466195]"
      ]
     },
     "execution_count": 47,
     "metadata": {},
     "output_type": "execute_result"
    }
   ],
   "source": [
    "top_10_scores"
   ]
  },
  {
   "cell_type": "code",
   "execution_count": 48,
   "metadata": {},
   "outputs": [],
   "source": [
    "top_10_peptides = [mcmc_hsm_id_set_03_peptides[i] for i in top_10_idxs]"
   ]
  },
  {
   "cell_type": "code",
   "execution_count": 49,
   "metadata": {},
   "outputs": [
    {
     "data": {
      "text/plain": [
       "['GDQWIDQyELIDDTL',\n",
       " 'PESFFTIyIAQQRPT',\n",
       " 'YKFMPNGyKNGVCEY',\n",
       " 'WMMYSMYyIPGWKDR',\n",
       " 'MRPEKHAyPWMTWMN',\n",
       " 'PQPQGLLyLVKPLHP',\n",
       " 'HAHNGVFyTCDPRPT',\n",
       " 'FPTPAHKyNYYLAHH',\n",
       " 'KYHHRWLyGVDTECS']"
      ]
     },
     "execution_count": 49,
     "metadata": {},
     "output_type": "execute_result"
    }
   ],
   "source": [
    "top_10_peptides[-1]"
   ]
  },
  {
   "cell_type": "code",
   "execution_count": 50,
   "metadata": {},
   "outputs": [],
   "source": [
    "top_10_raw_scores = [mcmc_hsm_id_set_03_raw_scores[i] for i in top_10_idxs]"
   ]
  },
  {
   "cell_type": "code",
   "execution_count": 51,
   "metadata": {},
   "outputs": [
    {
     "data": {
      "text/plain": [
       "[[0.9008630695394017,\n",
       "  0.013738678445989316,\n",
       "  0.0047741408323139795,\n",
       "  0.03823194880714723,\n",
       "  0.041279320878959684,\n",
       "  0.0045849925303321605,\n",
       "  0.0013430677896866404,\n",
       "  0.06631954536708817,\n",
       "  0.009144608639878364],\n",
       " [0.013146340054995969,\n",
       "  0.4307961999007456,\n",
       "  0.0026725161865880807,\n",
       "  0.004804498097337258,\n",
       "  0.0017955840367188886,\n",
       "  0.006091007497930304,\n",
       "  0.0018136775861256,\n",
       "  0.0017988683650110894,\n",
       "  0.003822354806046532],\n",
       " [0.004238002267951244,\n",
       "  0.0015859371027309047,\n",
       "  0.0500131060089993,\n",
       "  0.0008171998652494771,\n",
       "  0.002026120672670634,\n",
       "  9.362144871259394e-05,\n",
       "  6.975115719210905e-05,\n",
       "  0.012752661605288188,\n",
       "  0.0013667182333873221],\n",
       " [0.046819141938094576,\n",
       "  0.0353826142269383,\n",
       "  0.016181396726782978,\n",
       "  0.1473612838972022,\n",
       "  0.08172022727364432,\n",
       "  0.0028358028881767298,\n",
       "  0.0020990536071814306,\n",
       "  0.004534356055761078,\n",
       "  0.05366238438426231],\n",
       " [0.0003008812949869096,\n",
       "  0.0008011398179386098,\n",
       "  0.0006577829947809102,\n",
       "  0.015531092640134728,\n",
       "  0.1821974296358422,\n",
       "  7.512980523799781e-05,\n",
       "  1.61793868905743e-05,\n",
       "  0.0016751951523950295,\n",
       "  0.00046757728950477687],\n",
       " [0.10648534819238012,\n",
       "  0.009880451176253168,\n",
       "  0.05501921353514835,\n",
       "  0.12762582168189734,\n",
       "  0.026679425924373543,\n",
       "  0.16834667786799165,\n",
       "  0.02217523662614396,\n",
       "  0.02570055160312751,\n",
       "  0.12963756414697178],\n",
       " [0.029873530997428677,\n",
       "  0.020494552224389808,\n",
       "  0.005850560044940234,\n",
       "  0.00828209006151262,\n",
       "  0.007258247741151561,\n",
       "  0.09506910568275824,\n",
       "  0.031319231985296736,\n",
       "  0.009044495024901265,\n",
       "  0.01601912609903194],\n",
       " [0.007676585917056326,\n",
       "  0.02717449849100577,\n",
       "  0.011590025062532436,\n",
       "  0.007694552028260023,\n",
       "  0.011008282232183184,\n",
       "  0.004149070766927645,\n",
       "  0.0018327575953787836,\n",
       "  0.11108490763361488,\n",
       "  0.006897804607622443],\n",
       " [0.04392776622934679,\n",
       "  0.006346047969731132,\n",
       "  0.017861669856544266,\n",
       "  0.004185461965886381,\n",
       "  0.0015111776869761945,\n",
       "  0.0068571120342980655,\n",
       "  0.002990440170966877,\n",
       "  0.01532360274805366,\n",
       "  0.07341264821449776]]"
      ]
     },
     "execution_count": 51,
     "metadata": {},
     "output_type": "execute_result"
    }
   ],
   "source": [
    "top_10_raw_scores[-1]"
   ]
  },
  {
   "cell_type": "code",
   "execution_count": 53,
   "metadata": {
    "scrolled": true
   },
   "outputs": [
    {
     "name": "stdout",
     "output_type": "stream",
     "text": [
      "GDQWIDQyELIDDTL ,  [0.9, 0.01, 0.0, 0.04, 0.04, 0.0, 0.0, 0.07, 0.01]\n",
      "PESFFTIyIAQQRPT ,  [0.01, 0.43, 0.0, 0.0, 0.0, 0.01, 0.0, 0.0, 0.0]\n",
      "YKFMPNGyKNGVCEY ,  [0.0, 0.0, 0.05, 0.0, 0.0, 0.0, 0.0, 0.01, 0.0]\n",
      "WMMYSMYyIPGWKDR ,  [0.05, 0.04, 0.02, 0.15, 0.08, 0.0, 0.0, 0.0, 0.05]\n",
      "MRPEKHAyPWMTWMN ,  [0.0, 0.0, 0.0, 0.02, 0.18, 0.0, 0.0, 0.0, 0.0]\n",
      "PQPQGLLyLVKPLHP ,  [0.11, 0.01, 0.06, 0.13, 0.03, 0.17, 0.02, 0.03, 0.13]\n",
      "HAHNGVFyTCDPRPT ,  [0.03, 0.02, 0.01, 0.01, 0.01, 0.1, 0.03, 0.01, 0.02]\n",
      "FPTPAHKyNYYLAHH ,  [0.01, 0.03, 0.01, 0.01, 0.01, 0.0, 0.0, 0.11, 0.01]\n",
      "KYHHRWLyGVDTECS ,  [0.04, 0.01, 0.02, 0.0, 0.0, 0.01, 0.0, 0.02, 0.07]\n"
     ]
    }
   ],
   "source": [
    "for peptide, raw_score in zip(top_10_peptides[-1], top_10_raw_scores[-1]):\n",
    "    print(peptide, \", \", [round(val,2) for val in raw_score])"
   ]
  },
  {
   "cell_type": "code",
   "execution_count": null,
   "metadata": {},
   "outputs": [],
   "source": []
  }
 ],
 "metadata": {
  "kernelspec": {
   "display_name": "Python 3",
   "language": "python",
   "name": "python3"
  },
  "language_info": {
   "codemirror_mode": {
    "name": "ipython",
    "version": 3
   },
   "file_extension": ".py",
   "mimetype": "text/x-python",
   "name": "python",
   "nbconvert_exporter": "python",
   "pygments_lexer": "ipython3",
   "version": "3.6.10"
  }
 },
 "nbformat": 4,
 "nbformat_minor": 4
}
